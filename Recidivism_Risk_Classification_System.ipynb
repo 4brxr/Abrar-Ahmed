{
  "cells": [
    {
      "cell_type": "markdown",
      "id": "a7f3b0cf-c609-4f2e-9287-165477f2a3c1",
      "metadata": {
        "id": "a7f3b0cf-c609-4f2e-9287-165477f2a3c1"
      },
      "source": [
        "\n",
        "\n",
        "## Name: ***Abrar Walid Ahmed***\n"
      ]
    },
    {
      "cell_type": "markdown",
      "id": "9815d6df-606b-42bd-a16f-beb112ff7e88",
      "metadata": {
        "id": "9815d6df-606b-42bd-a16f-beb112ff7e88"
      },
      "source": [
        "## Recidivism Risk Classification\n",
        "\n",
        "\n",
        "\n"
      ]
    },
    {
      "cell_type": "markdown",
      "id": "7ec67fd4-2446-4233-9779-160c31443338",
      "metadata": {
        "id": "7ec67fd4-2446-4233-9779-160c31443338"
      },
      "source": [
        "## COMPAS Dataset Description\n",
        "\n",
        "The COMPAS Recidivism dataset was first released by ProPublica in 2016 and contains data on over 7,000 criminal defendants from Broward County, Florida, assessed between 2013 and 2014. Key fields include demographic attributes (age, sex, race), offense history metrics (juvenile felony/misdemeanor/other counts, adult priors count), current charge details (degree and description), and COMPAS-generated risk assessments (decile score and qualitative risk category). Outcome labels capture general two-year recidivism (‘is_recid’) enabling classification and fairness analyses."
      ]
    },
    {
      "cell_type": "markdown",
      "id": "e0e8ead8-c786-444e-b712-b54ffe188481",
      "metadata": {
        "id": "e0e8ead8-c786-444e-b712-b54ffe188481"
      },
      "source": [
        "## Set up"
      ]
    },
    {
      "cell_type": "code",
      "execution_count": null,
      "id": "1ac81318-b40a-4cf1-b1f0-e932e52bd8ff",
      "metadata": {
        "colab": {
          "base_uri": "https://localhost:8080/"
        },
        "id": "1ac81318-b40a-4cf1-b1f0-e932e52bd8ff",
        "outputId": "f347133c-ca5c-40b3-984e-6024bb406229"
      },
      "outputs": [
        {
          "output_type": "stream",
          "name": "stdout",
          "text": [
            "Requirement already satisfied: pandas in /usr/local/lib/python3.11/dist-packages (2.2.2)\n",
            "Requirement already satisfied: numpy>=1.23.2 in /usr/local/lib/python3.11/dist-packages (from pandas) (2.0.2)\n",
            "Requirement already satisfied: python-dateutil>=2.8.2 in /usr/local/lib/python3.11/dist-packages (from pandas) (2.9.0.post0)\n",
            "Requirement already satisfied: pytz>=2020.1 in /usr/local/lib/python3.11/dist-packages (from pandas) (2025.2)\n",
            "Requirement already satisfied: tzdata>=2022.7 in /usr/local/lib/python3.11/dist-packages (from pandas) (2025.2)\n",
            "Requirement already satisfied: six>=1.5 in /usr/local/lib/python3.11/dist-packages (from python-dateutil>=2.8.2->pandas) (1.17.0)\n"
          ]
        }
      ],
      "source": [
        "pip install pandas"
      ]
    },
    {
      "cell_type": "code",
      "execution_count": null,
      "id": "d992201e-866d-42e0-a59e-a2d8f944a127",
      "metadata": {
        "colab": {
          "base_uri": "https://localhost:8080/"
        },
        "id": "d992201e-866d-42e0-a59e-a2d8f944a127",
        "outputId": "b78f7aa9-84bb-4c94-8179-57b4626c6d2f"
      },
      "outputs": [
        {
          "output_type": "stream",
          "name": "stdout",
          "text": [
            "Requirement already satisfied: scikit-learn in /usr/local/lib/python3.11/dist-packages (1.6.1)\n",
            "Requirement already satisfied: numpy>=1.19.5 in /usr/local/lib/python3.11/dist-packages (from scikit-learn) (2.0.2)\n",
            "Requirement already satisfied: scipy>=1.6.0 in /usr/local/lib/python3.11/dist-packages (from scikit-learn) (1.15.3)\n",
            "Requirement already satisfied: joblib>=1.2.0 in /usr/local/lib/python3.11/dist-packages (from scikit-learn) (1.5.1)\n",
            "Requirement already satisfied: threadpoolctl>=3.1.0 in /usr/local/lib/python3.11/dist-packages (from scikit-learn) (3.6.0)\n"
          ]
        }
      ],
      "source": [
        "pip install scikit-learn"
      ]
    },
    {
      "cell_type": "code",
      "execution_count": null,
      "id": "f7d28f65-2eac-4497-93fa-eb0ec625180c",
      "metadata": {
        "colab": {
          "base_uri": "https://localhost:8080/"
        },
        "id": "f7d28f65-2eac-4497-93fa-eb0ec625180c",
        "outputId": "a2e8f1d5-0b63-45d7-f10f-4aed6896480b"
      },
      "outputs": [
        {
          "output_type": "stream",
          "name": "stdout",
          "text": [
            "Requirement already satisfied: matplotlib in /usr/local/lib/python3.11/dist-packages (3.10.0)\n",
            "Requirement already satisfied: contourpy>=1.0.1 in /usr/local/lib/python3.11/dist-packages (from matplotlib) (1.3.2)\n",
            "Requirement already satisfied: cycler>=0.10 in /usr/local/lib/python3.11/dist-packages (from matplotlib) (0.12.1)\n",
            "Requirement already satisfied: fonttools>=4.22.0 in /usr/local/lib/python3.11/dist-packages (from matplotlib) (4.58.1)\n",
            "Requirement already satisfied: kiwisolver>=1.3.1 in /usr/local/lib/python3.11/dist-packages (from matplotlib) (1.4.8)\n",
            "Requirement already satisfied: numpy>=1.23 in /usr/local/lib/python3.11/dist-packages (from matplotlib) (2.0.2)\n",
            "Requirement already satisfied: packaging>=20.0 in /usr/local/lib/python3.11/dist-packages (from matplotlib) (24.2)\n",
            "Requirement already satisfied: pillow>=8 in /usr/local/lib/python3.11/dist-packages (from matplotlib) (11.2.1)\n",
            "Requirement already satisfied: pyparsing>=2.3.1 in /usr/local/lib/python3.11/dist-packages (from matplotlib) (3.2.3)\n",
            "Requirement already satisfied: python-dateutil>=2.7 in /usr/local/lib/python3.11/dist-packages (from matplotlib) (2.9.0.post0)\n",
            "Requirement already satisfied: six>=1.5 in /usr/local/lib/python3.11/dist-packages (from python-dateutil>=2.7->matplotlib) (1.17.0)\n"
          ]
        }
      ],
      "source": [
        "pip install matplotlib"
      ]
    },
    {
      "cell_type": "code",
      "execution_count": null,
      "id": "2297c05f-1149-4cda-87d4-4e043d26dc63",
      "metadata": {
        "id": "2297c05f-1149-4cda-87d4-4e043d26dc63"
      },
      "outputs": [],
      "source": [
        "import pandas as pd\n",
        "import numpy as np\n",
        "from sklearn.model_selection import train_test_split"
      ]
    },
    {
      "cell_type": "code",
      "execution_count": null,
      "id": "efb6231a-ca0d-48ed-88de-e0e02587950d",
      "metadata": {
        "id": "efb6231a-ca0d-48ed-88de-e0e02587950d"
      },
      "outputs": [],
      "source": [
        "\n",
        "# Load the data set\n",
        "df = pd.read_csv(\"cox-violent-parsed_filt.csv\")\n",
        "\n",
        "# Drop censored/invalid case in the dataframe ('is_recid' = -1).\n",
        "df = df[df['is_recid'] != -1]\n",
        "\n",
        "# Select the key predictors\n",
        "features = ['sex', 'age', 'race', 'juv_fel_count', 'juv_misd_count', 'juv_other_count', 'priors_count', 'c_charge_degree']\n",
        "df = df[features + ['is_recid']]\n",
        "# Drop any records missing these values.\n",
        "df = df.dropna(subset=features)"
      ]
    },
    {
      "cell_type": "code",
      "execution_count": null,
      "id": "a6ab09e9-5a17-4d9d-922e-df17d8b415d1",
      "metadata": {
        "id": "a6ab09e9-5a17-4d9d-922e-df17d8b415d1",
        "colab": {
          "base_uri": "https://localhost:8080/",
          "height": 942
        },
        "outputId": "a58acf9d-0410-4852-c018-c5765f94591f"
      },
      "outputs": [
        {
          "output_type": "stream",
          "name": "stdout",
          "text": [
            "          sex  age              race  juv_fel_count  juv_misd_count  \\\n",
            "0        Male   69             Other              0               0   \n",
            "3        Male   34  African-American              0               0   \n",
            "4        Male   24  African-American              0               0   \n",
            "9        Male   23  African-American              0               1   \n",
            "10       Male   43             Other              0               0   \n",
            "...       ...  ...               ...            ...             ...   \n",
            "18296    Male   44          Hispanic              0               0   \n",
            "18298    Male   23         Caucasian              0               2   \n",
            "18303  Female   34         Caucasian              0               0   \n",
            "18311  Female   31  African-American              0               0   \n",
            "18314  Female   23          Hispanic              0               0   \n",
            "\n",
            "       juv_other_count  priors_count c_charge_degree  is_recid  \n",
            "0                    0             0            (F3)         0  \n",
            "3                    0             0            (F3)         1  \n",
            "4                    1             4            (F3)         1  \n",
            "9                    0             1            (F3)         0  \n",
            "10                   0             2            (F7)         0  \n",
            "...                ...           ...             ...       ...  \n",
            "18296                0             0            (F3)         0  \n",
            "18298                1             5            (M2)         1  \n",
            "18303                0             7            (F3)         0  \n",
            "18311                0             5            (M1)         0  \n",
            "18314                0             2            (F3)         1  \n",
            "\n",
            "[6398 rows x 9 columns]\n",
            "Filtered dataframe column and rows: (6398, 9)\n"
          ]
        },
        {
          "output_type": "execute_result",
          "data": {
            "text/plain": [
              "<Axes: xlabel='race'>"
            ]
          },
          "metadata": {},
          "execution_count": 32
        },
        {
          "output_type": "display_data",
          "data": {
            "text/plain": [
              "<Figure size 400x300 with 1 Axes>"
            ],
            "image/png": "[encoded data removed]"
          },
          "metadata": {}
        }
      ],
      "source": [
        "\n",
        "df = df.drop_duplicates()\n",
        "print (df)\n",
        "print (\"Filtered dataframe column and rows:\", df.shape)\n",
        "\n",
        "# Visualize the distribution information of race\n",
        "GroupedData=df.groupby('race').size()\n",
        "GroupedData.plot(kind='bar', figsize=(4,3))"
      ]
    },
    {
      "cell_type": "code",
      "execution_count": null,
      "id": "82bddaed-8ca5-4789-a65e-4865fcd87932",
      "metadata": {
        "id": "82bddaed-8ca5-4789-a65e-4865fcd87932",
        "colab": {
          "base_uri": "https://localhost:8080/",
          "height": 424
        },
        "outputId": "b1b3c9cb-6f60-4c9f-eba7-2c6409a57356"
      },
      "outputs": [
        {
          "output_type": "execute_result",
          "data": {
            "text/plain": [
              "<Axes: ylabel='count'>"
            ]
          },
          "metadata": {},
          "execution_count": 33
        },
        {
          "output_type": "display_data",
          "data": {
            "text/plain": [
              "<Figure size 640x480 with 1 Axes>"
            ],
            "image/png": "[encoded data removed]"
          },
          "metadata": {}
        }
      ],
      "source": [
        "\n",
        "# 'is_recid' indicates whether there's recidivism within two years (1), or no recidivism (0).\n",
        "# This is what we would like to predict based on the dataset.\n",
        "# Let's visualize it.\n",
        "df[\"is_recid\"].value_counts().plot.pie()"
      ]
    },
    {
      "cell_type": "code",
      "execution_count": null,
      "id": "f044fd16-0e91-4952-9add-edc51ae1de87",
      "metadata": {
        "id": "f044fd16-0e91-4952-9add-edc51ae1de87",
        "colab": {
          "base_uri": "https://localhost:8080/",
          "height": 576
        },
        "outputId": "a4e199ff-d61d-4e0c-b7d7-b99453ca6d35"
      },
      "outputs": [
        {
          "output_type": "stream",
          "name": "stdout",
          "text": [
            "Random over-sampling:\n",
            "is_recid\n",
            "0    3848\n",
            "1    3848\n",
            "Name: count, dtype: int64\n"
          ]
        },
        {
          "output_type": "execute_result",
          "data": {
            "text/plain": [
              "<Axes: title={'center': 'Count (target)'}, xlabel='is_recid'>"
            ]
          },
          "metadata": {},
          "execution_count": 34
        },
        {
          "output_type": "display_data",
          "data": {
            "text/plain": [
              "<Figure size 640x480 with 1 Axes>"
            ],
            "image/png": "[encoded data removed]"
          },
          "metadata": {}
        }
      ],
      "source": [
        "\n",
        "# From the visualization above, we can see there are more no-recidivism cases compared to cases of recidivism.\n",
        "# This imbalanced dataset is problematic for training a model.\n",
        "# To handle imbalanced dataset in this assginment, we can over-sample the minority class.\n",
        "# Name the oversampled df as \"df_bal\".\n",
        "\n",
        "# Step 1: Count how many instances of each class exist in the 'is_recid' column\n",
        "# count_0 = number of examples with is_recid == 0 (non-recidivists)\n",
        "# count_1 = number of examples with is_recid == 1 (recidivists)\n",
        "count_0 = df[df['is_recid'] == 0].shape[0]\n",
        "count_1 = df[df['is_recid'] == 1].shape[0]\n",
        "# Step 2: Create a new DataFrame containing only the non-recidivist samples (label 0)\n",
        "df_is_recid_0 = df[df['is_recid'] == 0]\n",
        "\n",
        "# Step 3: Create another DataFrame containing only the recidivist samples (label 1)\n",
        "df_is_recid_1 = df[df['is_recid'] == 1]\n",
        "\n",
        "# Step 4: Oversample the recidivist group (label 1) to match the size of the non-recidivist group (label 0)\n",
        "df_is_recid_1_over = df_is_recid_1.sample(count_0, replace=True, random_state=42)\n",
        "\n",
        "# Step 5: Concatenate the original non-recidivist group (label 0) and the oversampled recidivist group (label 1)\n",
        "# This creates a new balanced dataset where both classes have the same number of samples\n",
        "df_bal = pd.concat([df_is_recid_0, df_is_recid_1_over], axis=0).reset_index(drop=True)\n",
        "##############################################\n",
        "# Now let's visualize the balanced dataframe\n",
        "# No actions needed for the following three lines of code.\n",
        "print('Random over-sampling:')\n",
        "print(df_bal[\"is_recid\"].value_counts())\n",
        "df_bal[\"is_recid\"].value_counts().plot(kind='bar', title='Count (target)')"
      ]
    },
    {
      "cell_type": "code",
      "execution_count": null,
      "id": "5e6cf4b7-f435-405f-9d19-fbca6d936b23",
      "metadata": {
        "id": "5e6cf4b7-f435-405f-9d19-fbca6d936b23"
      },
      "outputs": [],
      "source": [
        "\n",
        "\n",
        "# Split the balanced dataframe into features X and labels y\n",
        "# where X contains selected predictor columns, y contains the binary outcome 'is_recid'.\n",
        "X = df_bal[features]\n",
        "y = df_bal['is_recid']\n",
        "\n",
        "# Now we split data into training and test dataset (80/20 split)\n",
        "X_train, X_test, y_train, y_test = train_test_split(X, y, test_size=0.2, random_state=42, stratify=y)"
      ]
    },
    {
      "cell_type": "markdown",
      "id": "5cbce379-4bdd-4e16-a885-eb5bbf04e72e",
      "metadata": {
        "id": "5cbce379-4bdd-4e16-a885-eb5bbf04e72e"
      },
      "source": [
        "## Task 2 (10 points)\n",
        "TO DO:\n",
        "1. Data Preprocessing:\n",
        "   Some features, such as 'sex' and 'c_charge_degree', are categorical.\\\n",
        "   Others, such as 'age' and 'juv_misd_count', are numerical.\\\n",
        "   We need to convert categorical variables to numeric before we can use the data for our Machine Learnining models.\n",
        "   1. **(2 marks)** Numeric features: **scale to zero mean and unit variance**.\n",
        "   2. **(2 marks)** Categorical features: **Use one-hot encoding for categorical features**.\n",
        "3. Model training and evaluation:\n",
        "   1. **(3 marks)** Train a machine learning model for predicting recidivism with a machine learning algorithm discussed during the lectures **(Week 10 to Week 12)** (or any other appropriate algorithm not covered in the lectures). Which machine learning algorithm did you choose, and why? Report accuracy, confusion matrix.\n",
        "   2. **(3 marks)** Train an **artificial neural network (Multi-Layered Perceptron Classifier (MLP))** model for recidivism prediction. Report accuracy, and confusion matrix.\n",
        "  \n",
        "Confusion matrix:\n",
        "  \n",
        "|                  | **Predicted Positive** | **Predicted Negative** |\n",
        "|------------------|------------------------|------------------------|\n",
        "| **Actual Positive** | True Positive (TP)       | False Negative (FN)      |\n",
        "| **Actual Negative** | False Positive (FP)      | True Negative (TN)       |"
      ]
    },
    {
      "cell_type": "code",
      "execution_count": null,
      "id": "4b5952a0-2769-4365-b738-90685fbdcf75",
      "metadata": {
        "id": "4b5952a0-2769-4365-b738-90685fbdcf75"
      },
      "outputs": [],
      "source": [
        "\n",
        "from sklearn.preprocessing import StandardScaler, OneHotEncoder\n",
        "\n",
        "# scale numerical variables to zero mean and unit variance for both traning and test dataset\n",
        "numeric_features = ['age', 'juv_fel_count', 'juv_misd_count', 'juv_other_count', 'priors_count']\n",
        "\n",
        "scaler = StandardScaler()\n",
        "X_train_num = scaler.fit_transform(X_train[numeric_features])\n",
        "X_test_num = scaler.transform(X_test[numeric_features])\n",
        "\n",
        "\n",
        "# Use one-hot encoding to encode categorical variables for both traning and test dataset\n",
        "categorical_features = ['sex', 'race', 'c_charge_degree']\n",
        "ohe = OneHotEncoder(sparse_output=False, drop='first')\n",
        "X_train_cat = ohe.fit_transform(X_train[categorical_features])\n",
        "X_test_cat = ohe.transform(X_test[categorical_features])\n",
        "\n",
        "\n",
        "# Now we can combine numeric and categorical arrays\n",
        "# No actions needed for the following two lines of code.\n",
        "X_train_processed = np.hstack([X_train_num, X_train_cat])\n",
        "X_test_processed  = np.hstack([X_test_num,  X_test_cat])\n",
        "##############################################"
      ]
    },
    {
      "cell_type": "code",
      "execution_count": null,
      "id": "f559c8b6-469d-4ff5-9a51-cd9dd74dfcc9",
      "metadata": {
        "id": "f559c8b6-469d-4ff5-9a51-cd9dd74dfcc9",
        "colab": {
          "base_uri": "https://localhost:8080/"
        },
        "outputId": "a482295d-c009-4e46-8539-c0b1c2e62470"
      },
      "outputs": [
        {
          "output_type": "stream",
          "name": "stdout",
          "text": [
            "Logistic Regression Results:\n",
            "Test accuracy:  0.624025974025974\n",
            "Classification Report:\n",
            "               precision    recall  f1-score   support\n",
            "\n",
            "           0       0.63      0.58      0.61       770\n",
            "           1       0.61      0.66      0.64       770\n",
            "\n",
            "    accuracy                           0.62      1540\n",
            "   macro avg       0.62      0.62      0.62      1540\n",
            "weighted avg       0.62      0.62      0.62      1540\n",
            "\n",
            "Confusion Matrix:\n",
            " [[450 320]\n",
            " [259 511]]\n"
          ]
        }
      ],
      "source": [
        "\n",
        "from sklearn.linear_model import LogisticRegression\n",
        "from sklearn.neural_network import MLPClassifier\n",
        "from sklearn.metrics import classification_report, confusion_matrix, accuracy_score\n",
        "\n",
        "# Initialize and train the Logistic Regression model\n",
        "logisticRegression = LogisticRegression(max_iter=1000, random_state=42)\n",
        "logisticRegression.fit(X_train_processed, y_train)\n",
        "\n",
        "\n",
        "# Predictions\n",
        "y_pred = logisticRegression.predict(X_test_processed)\n",
        "\n",
        "# Report the results.\n",
        "print(\"Logistic Regression Results:\")\n",
        "print(\"Test accuracy: \", accuracy_score(y_test, y_pred))\n",
        "print(\"Classification Report:\\n\", classification_report(y_test, y_pred))\n",
        "print(\"Confusion Matrix:\\n\", confusion_matrix(y_test, y_pred))"
      ]
    },
    {
      "cell_type": "markdown",
      "source": [
        "##Task 2 -##\n",
        "2.1) I chose Logistic Regression as it is often used for binary classification tasks such as predicting whether an individual will reoffend (recidivism = 1) or not (recidivism = 0). It is known for being interpretable, efficient and baseline-appropriate.\n",
        "The model performs slightly better at predicting recidivism (recall = 0.66) than predicting non-recidivism (recall = 0.58), the confusion matrix shows a notable number of false positives (320) which can raise fairness considerations.\n",
        "\n"
      ],
      "metadata": {
        "id": "p7re9e0uLIL9"
      },
      "id": "p7re9e0uLIL9"
    },
    {
      "cell_type": "code",
      "execution_count": null,
      "id": "bc34d746-c7e7-47ff-a1f5-10c2715ed0e5",
      "metadata": {
        "id": "bc34d746-c7e7-47ff-a1f5-10c2715ed0e5",
        "colab": {
          "base_uri": "https://localhost:8080/"
        },
        "outputId": "74ec33e7-a5ad-4ccb-eff6-ca668eea993e"
      },
      "outputs": [
        {
          "output_type": "stream",
          "name": "stdout",
          "text": [
            "MLP Classifier Results:\n",
            "Test accuracy:  0.6246753246753247\n",
            "Classification Report:\n",
            "               precision    recall  f1-score   support\n",
            "\n",
            "           0       0.62      0.65      0.63       770\n",
            "           1       0.63      0.60      0.62       770\n",
            "\n",
            "    accuracy                           0.62      1540\n",
            "   macro avg       0.62      0.62      0.62      1540\n",
            "weighted avg       0.62      0.62      0.62      1540\n",
            "\n",
            "Confusion Matrix:\n",
            " [[497 273]\n",
            " [305 465]]\n"
          ]
        }
      ],
      "source": [
        "\n",
        "from sklearn.neural_network import MLPClassifier\n",
        "from sklearn.metrics import classification_report, confusion_matrix, accuracy_score\n",
        "\n",
        "# Initialize and train MLP model\n",
        "mlp_model = MLPClassifier(hidden_layer_sizes=(100,), max_iter=500, random_state=42)\n",
        "mlp_model.fit(X_train_processed, y_train)\n",
        "\n",
        "# Predictions\n",
        "y_pred = mlp_model.predict(X_test_processed)\n",
        "\n",
        "# Report the results.\n",
        "print(\"MLP Classifier Results:\")\n",
        "print(\"Test accuracy: \", accuracy_score(y_test, y_pred))\n",
        "print(\"Classification Report:\\n\", classification_report(y_test, y_pred))\n",
        "print(\"Confusion Matrix:\\n\", confusion_matrix(y_test, y_pred))"
      ]
    },
    {
      "cell_type": "markdown",
      "source": [
        "2.2) The MLP classifier achieved comparable accuracy to logistic regression, with slightly better performance on non-recidivists, slightly worse on recidivists, and shows potential for improvement with further tuning."
      ],
      "metadata": {
        "id": "t6xcdh_ZOFtV"
      },
      "id": "t6xcdh_ZOFtV"
    },
    {
      "cell_type": "markdown",
      "id": "9fa9f37e-1505-48f6-92cd-8afdc4fd58b9",
      "metadata": {
        "id": "9fa9f37e-1505-48f6-92cd-8afdc4fd58b9"
      },
      "source": [
        "## Task 3 (10 points)\n",
        "1. **(2 marks)** For the neural network model, calculate False Positive Rate **by race**.\n",
        "\n",
        "    Confusion matrix:\n",
        "  \n",
        "|                  | **Predicted Positive** | **Predicted Negative** |\n",
        "|------------------|------------------------|------------------------|\n",
        "| **Actual Positive** | True Positive (TP)       | False Negative (FN)      |\n",
        "| **Actual Negative** | False Positive (FP)      | True Negative (TN)       |\n",
        "\n",
        "\n",
        "False Positive Rate (FPR) tells you how often negative instances (not recidivate) are incorrectly classified as positive (recidivate).\n",
        "Based on the confusion matrix, FPR is calculated as:\n",
        "\n",
        "<p style=\"text-align:center;\">False Positive Rate (FPR) = FP / (FP + TN)</p>\n",
        "\n",
        "2. **(8 marks)** Reflect on the disparities you observed in the assignment.\n",
        "    - Are there any differences in False Positive Rates between races?\n",
        "    - Are there potential sources of bias in the data?\n",
        "    - Describe what steps you would recommend for alleviating such bias in the intended classification model.\n",
        "    - Discuss the trade-offs and potential impacts of your chosen strategies on overall model performance and fairness."
      ]
    },
    {
      "cell_type": "code",
      "execution_count": null,
      "id": "df814265-b092-4dba-a596-273800c2d6ab",
      "metadata": {
        "id": "df814265-b092-4dba-a596-273800c2d6ab",
        "colab": {
          "base_uri": "https://localhost:8080/",
          "height": 596
        },
        "outputId": "6ae49a22-9b08-48ec-e8cb-230b418ab137"
      },
      "outputs": [
        {
          "output_type": "stream",
          "name": "stdout",
          "text": [
            "African-American: False Positive Rate (FPR)=0.512\n",
            "Caucasian: False Positive Rate (FPR)=0.290\n",
            "Other: False Positive Rate (FPR)=0.123\n",
            "Hispanic: False Positive Rate (FPR)=0.204\n",
            "Asian: False Positive Rate (FPR)=0.100\n",
            "Native American: False Positive Rate (FPR)=0.000\n"
          ]
        },
        {
          "output_type": "display_data",
          "data": {
            "text/plain": [
              "<Figure size 800x500 with 1 Axes>"
            ],
            "image/png": "[encoded data removed]"
          },
          "metadata": {}
        }
      ],
      "source": [
        "\n",
        "import matplotlib.pyplot as plt\n",
        "\n",
        "# To calculate FPR by race, first get the indices of each race category\n",
        "# Create a dictionary to store the list of row indices for each race category\n",
        "index_dict = {}\n",
        "\n",
        "# Reset indices of X_test and y_test so they align with indexing of y_pred\n",
        "# as X_test and y_test were split from a larger DataFrame (the original dataframe)\n",
        "X_test = X_test.reset_index(drop=True)\n",
        "y_test = y_test.reset_index(drop=True)\n",
        "\n",
        "# For each row in the test set, add its index to the corresponding race category\n",
        "for idx, race_category in X_test['race'].items():\n",
        "    if race_category in index_dict:\n",
        "         index_dict[race_category].append(idx)\n",
        "    else:\n",
        "         index_dict[race_category] = [idx]\n",
        "\n",
        "\n",
        "# Compute FPR for each race group\n",
        "# Iterate over each race category\n",
        "all_fpr = []\n",
        "for race in index_dict.keys():\n",
        "    indices = index_dict[race]\n",
        "\n",
        "    actual = y_test.loc[indices]\n",
        "    predicted = y_pred[indices]\n",
        "\n",
        "    # Count False Positives:\n",
        "    # These are the cases where the model predicted recidivism (1)\n",
        "    # but the actual label is non-recidivism (0)\n",
        "    num_false_positive = sum((predicted == 1) & (actual == 0))\n",
        "\n",
        "    # Count True Negatives:\n",
        "    # These are the cases where the model correctly predicted non-recidivism (0)\n",
        "    num_true_negative = sum((predicted == 0) & (actual == 0))\n",
        "\n",
        "    # Calculate False Positive Rate (FPR) based on the formula.\n",
        "    # FPR = FP / (FP + TN)\n",
        "    if (num_false_positive + num_true_negative) > 0:\n",
        "        fpr = num_false_positive / (num_false_positive + num_true_negative)\n",
        "    else:\n",
        "        fpr = 0\n",
        "\n",
        "    all_fpr.append(fpr)\n",
        "    print(f\"{race}: False Positive Rate (FPR)={fpr:.3f}\")\n",
        "\n",
        "\n",
        "# Visualization\n",
        "\n",
        "plt.figure(figsize=(8, 5))\n",
        "races = index_dict.keys()\n",
        "plt.bar(races, all_fpr)\n",
        "plt.xlabel('Race')\n",
        "plt.ylabel('False Positive Rate')\n",
        "plt.title('False Positive Rate by Race')\n",
        "plt.show()"
      ]
    },
    {
      "cell_type": "markdown",
      "id": "e007ba1c-8f69-453a-a86d-7c05c79de28a",
      "metadata": {
        "id": "e007ba1c-8f69-453a-a86d-7c05c79de28a"
      },
      "source": [
        "#"
      ]
    },
    {
      "cell_type": "markdown",
      "source": [
        "####Are there any differences in False Positive Rates between races?\n",
        "Yes, the false positive rates vary by race. African-American defendants have the highest FPR (0.51), while groups like Asian and Native American have much lower rates. This suggests that the model is more likely to wrongly label African-American individuals as likely to reoffend compared to others.\n",
        "\n",
        "\n",
        "\n",
        "\n"
      ],
      "metadata": {
        "id": "wwVJXexTP3UO"
      },
      "id": "wwVJXexTP3UO"
    },
    {
      "cell_type": "markdown",
      "source": [
        "####Are there potential sources of bias in the data?\n",
        "Yes, the dataset reflects real-world arrest and sentencing practices, which may carry historical and systemic biases. For instance, over-representation of African-American individuals and imbalanced policing practices could skew the data and influence the model unfairly."
      ],
      "metadata": {
        "id": "fqNOpr31P9fS"
      },
      "id": "fqNOpr31P9fS"
    },
    {
      "cell_type": "markdown",
      "source": [
        "####What steps would you recommend for alleviating such bias?\n",
        "\n",
        "1. Preprocessing techniques such as reweighting or resampling to balance representation across races.\n",
        "\n",
        "2. Fairness constraints during model training (e.g. equalized odds, demographic parity).\n",
        "\n",
        "3. Post-processing corrections like adjusting decision thresholds for different groups.\n",
        "\n",
        "4. Review and evaluate features to ensure none indirectly reflect race-related information."
      ],
      "metadata": {
        "id": "XZzK9PABQAxa"
      },
      "id": "XZzK9PABQAxa"
    },
    {
      "cell_type": "markdown",
      "source": [
        "####What are the trade-offs and impacts of these strategies?\n",
        "\n",
        "- Enforcing fairness constraints may slightly reduce overall model accuracy. However, it improves equity and trustworthiness, especially in high-stakes contexts like criminal justice.\n",
        "\n",
        "- There’s a trade-off between individual-level predictive performance and group-level fairness, requiring careful policy consideration.\n",
        "- Interpretability vs. fairness: Introducing fairness-enhancing techniques or using more complex models can reduce the clarity of how decisions are made, making it more difficult for stakeholders such as judges or parole officers to understand or justify the model’s outputs. This lack of transparency may impact trust and limit the model’s adoption in real-world settings"
      ],
      "metadata": {
        "id": "u7eXL2ebQEAC"
      },
      "id": "u7eXL2ebQEAC"
    }
  ],
  "metadata": {
    "kernelspec": {
      "display_name": "Python 3 (ipykernel)",
      "language": "python",
      "name": "python3"
    },
    "language_info": {
      "codemirror_mode": {
        "name": "ipython",
        "version": 3
      },
      "file_extension": ".py",
      "mimetype": "text/x-python",
      "name": "python",
      "nbconvert_exporter": "python",
      "pygments_lexer": "ipython3",
      "version": "3.8.18"
    },
    "colab": {
      "provenance": []
    }
  },
  "nbformat": 4,
  "nbformat_minor": 5
}